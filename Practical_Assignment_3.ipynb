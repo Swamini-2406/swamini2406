{
 "cells": [
  {
   "cell_type": "markdown",
   "id": "634c20e4",
   "metadata": {},
   "source": [
    "### Create a set and display its elements"
   ]
  },
  {
   "cell_type": "code",
   "execution_count": null,
   "id": "0287f459",
   "metadata": {},
   "outputs": [],
   "source": [
    "\n",
    "my_set = {1, 2, 3, 4, 5}\n",
    "print(\"Set elements:\", my_set)\n"
   ]
  },
  {
   "cell_type": "markdown",
   "id": "85f6257a",
   "metadata": {},
   "source": [
    "### Add an element to a set"
   ]
  },
  {
   "cell_type": "code",
   "execution_count": null,
   "id": "cc01dbc8",
   "metadata": {},
   "outputs": [],
   "source": [
    "\n",
    "my_set = {1, 2, 3}\n",
    "my_set.add(4)\n",
    "print(\"Set after adding an element:\", my_set)\n"
   ]
  },
  {
   "cell_type": "markdown",
   "id": "46883560",
   "metadata": {},
   "source": [
    "### Remove an element from a set"
   ]
  },
  {
   "cell_type": "code",
   "execution_count": null,
   "id": "9cca33ef",
   "metadata": {},
   "outputs": [],
   "source": [
    "\n",
    "my_set = {1, 2, 3, 4}\n",
    "my_set.remove(3)\n",
    "print(\"Set after removing element:\", my_set)\n"
   ]
  },
  {
   "cell_type": "markdown",
   "id": "c96b55d4",
   "metadata": {},
   "source": [
    "### Clear all elements from a set"
   ]
  },
  {
   "cell_type": "code",
   "execution_count": null,
   "id": "a70f7cb0",
   "metadata": {},
   "outputs": [],
   "source": [
    "\n",
    "my_set = {1, 2, 3}\n",
    "my_set.clear()\n",
    "print(\"Set after clearing:\", my_set)\n"
   ]
  },
  {
   "cell_type": "markdown",
   "id": "1c6d76b9",
   "metadata": {},
   "source": [
    "### Copy a set to another set"
   ]
  },
  {
   "cell_type": "code",
   "execution_count": null,
   "id": "9aeb6dfb",
   "metadata": {},
   "outputs": [],
   "source": [
    "\n",
    "set1 = {1, 2, 3}\n",
    "set2 = set1.copy()\n",
    "print(\"Original Set:\", set1)\n",
    "print(\"Copied Set:\", set2)\n"
   ]
  },
  {
   "cell_type": "markdown",
   "id": "fb3bb3e4",
   "metadata": {},
   "source": [
    "### Check if an element exists in a set"
   ]
  },
  {
   "cell_type": "code",
   "execution_count": null,
   "id": "ba30805a",
   "metadata": {},
   "outputs": [],
   "source": [
    "\n",
    "my_set = {1, 2, 3, 4}\n",
    "element = 3\n",
    "print(f\"Is {element} in set? {'Yes' if element in my_set else 'No'}\")\n"
   ]
  },
  {
   "cell_type": "markdown",
   "id": "035cedea",
   "metadata": {},
   "source": [
    "### Find the length of a set"
   ]
  },
  {
   "cell_type": "code",
   "execution_count": null,
   "id": "f504a04c",
   "metadata": {},
   "outputs": [],
   "source": [
    "\n",
    "my_set = {10, 20, 30, 40, 50}\n",
    "print(\"Length of set:\", len(my_set))\n"
   ]
  },
  {
   "cell_type": "markdown",
   "id": "c909bfcc",
   "metadata": {},
   "source": [
    "### Iterate through a set using a loop"
   ]
  },
  {
   "cell_type": "code",
   "execution_count": null,
   "id": "a78fdc9f",
   "metadata": {},
   "outputs": [],
   "source": [
    "\n",
    "my_set = {1, 2, 3, 4, 5}\n",
    "print(\"Set elements:\")\n",
    "for element in my_set:\n",
    "    print(element)\n"
   ]
  },
  {
   "cell_type": "markdown",
   "id": "c23bbc42",
   "metadata": {},
   "source": [
    "### Find the union of two sets"
   ]
  },
  {
   "cell_type": "code",
   "execution_count": null,
   "id": "5063140c",
   "metadata": {},
   "outputs": [],
   "source": [
    "\n",
    "set1 = {1, 2, 3}\n",
    "set2 = {3, 4, 5}\n",
    "union_set = set1.union(set2)\n",
    "print(\"Union:\", union_set)\n"
   ]
  },
  {
   "cell_type": "markdown",
   "id": "985490fe",
   "metadata": {},
   "source": [
    "### Find the intersection of two sets"
   ]
  },
  {
   "cell_type": "code",
   "execution_count": null,
   "id": "9562a247",
   "metadata": {},
   "outputs": [],
   "source": [
    "\n",
    "set1 = {1, 2, 3}\n",
    "set2 = {2, 3, 4}\n",
    "intersection_set = set1.intersection(set2)\n",
    "print(\"Intersection:\", intersection_set)\n"
   ]
  },
  {
   "cell_type": "markdown",
   "id": "86583bc2",
   "metadata": {},
   "source": [
    "### Find the difference between two sets"
   ]
  },
  {
   "cell_type": "code",
   "execution_count": null,
   "id": "9f993285",
   "metadata": {},
   "outputs": [],
   "source": [
    "\n",
    "set1 = {1, 2, 3, 4}\n",
    "set2 = {3, 4, 5}\n",
    "difference_set = set1.difference(set2)\n",
    "print(\"Difference (set1 - set2):\", difference_set)\n"
   ]
  },
  {
   "cell_type": "markdown",
   "id": "1eea4408",
   "metadata": {},
   "source": [
    "### Find the symmetric difference between two sets"
   ]
  },
  {
   "cell_type": "code",
   "execution_count": null,
   "id": "996b2861",
   "metadata": {},
   "outputs": [],
   "source": [
    "\n",
    "set1 = {1, 2, 3}\n",
    "set2 = {3, 4, 5}\n",
    "symmetric_diff = set1.symmetric_difference(set2)\n",
    "print(\"Symmetric Difference:\", symmetric_diff)\n"
   ]
  },
  {
   "cell_type": "markdown",
   "id": "3110b90a",
   "metadata": {},
   "source": [
    "### Check if one set is a subset of another"
   ]
  },
  {
   "cell_type": "code",
   "execution_count": null,
   "id": "dc25a91c",
   "metadata": {},
   "outputs": [],
   "source": [
    "\n",
    "set1 = {1, 2}\n",
    "set2 = {1, 2, 3, 4}\n",
    "print(\"Is set1 a subset of set2?\", set1.issubset(set2))\n"
   ]
  },
  {
   "cell_type": "markdown",
   "id": "29763724",
   "metadata": {},
   "source": [
    "### Check if one set is a superset of another"
   ]
  },
  {
   "cell_type": "code",
   "execution_count": null,
   "id": "106d4fac",
   "metadata": {},
   "outputs": [],
   "source": [
    "\n",
    "set1 = {1, 2, 3, 4}\n",
    "set2 = {2, 3}\n",
    "print(\"Is set1 a superset of set2?\", set1.issuperset(set2))\n"
   ]
  },
  {
   "cell_type": "markdown",
   "id": "f0689af8",
   "metadata": {},
   "source": [
    "### Check if two sets are disjoint"
   ]
  },
  {
   "cell_type": "code",
   "execution_count": null,
   "id": "412da094",
   "metadata": {},
   "outputs": [],
   "source": [
    "\n",
    "set1 = {1, 2, 3}\n",
    "set2 = {4, 5, 6}\n",
    "print(\"Are the two sets disjoint?\", set1.isdisjoint(set2))\n"
   ]
  },
  {
   "cell_type": "markdown",
   "id": "b2238b4a",
   "metadata": {},
   "source": [
    "### Remove duplicates from a list using a set"
   ]
  },
  {
   "cell_type": "code",
   "execution_count": null,
   "id": "0ed80022",
   "metadata": {},
   "outputs": [],
   "source": [
    "\n",
    "my_list = [1, 2, 2, 3, 4, 4, 5]\n",
    "unique_list = list(set(my_list))\n",
    "print(\"List after removing duplicates:\", unique_list)\n"
   ]
  },
  {
   "cell_type": "markdown",
   "id": "50bfef4e",
   "metadata": {},
   "source": [
    "### Convert a list to a set and back to a list"
   ]
  },
  {
   "cell_type": "code",
   "execution_count": null,
   "id": "26f3e759",
   "metadata": {},
   "outputs": [],
   "source": [
    "\n",
    "my_list = [1, 2, 3, 2, 1]\n",
    "my_set = set(my_list)\n",
    "new_list = list(my_set)\n",
    "print(\"Converted Set:\", my_set)\n",
    "print(\"Converted back to List:\", new_list)\n"
   ]
  },
  {
   "cell_type": "markdown",
   "id": "20d12b52",
   "metadata": {},
   "source": [
    "### Find common elements in two lists using sets"
   ]
  },
  {
   "cell_type": "code",
   "execution_count": null,
   "id": "01299965",
   "metadata": {},
   "outputs": [],
   "source": [
    "\n",
    "list1 = [1, 2, 3, 4]\n",
    "list2 = [3, 4, 5, 6]\n",
    "common_elements = set(list1).intersection(list2)\n",
    "print(\"Common Elements:\", common_elements)\n"
   ]
  },
  {
   "cell_type": "markdown",
   "id": "1ec5fdac",
   "metadata": {},
   "source": [
    "### Get elements in one list but not in another using sets"
   ]
  },
  {
   "cell_type": "code",
   "execution_count": null,
   "id": "7910e303",
   "metadata": {},
   "outputs": [],
   "source": [
    "\n",
    "list1 = [1, 2, 3, 4]\n",
    "list2 = [3, 4, 5, 6]\n",
    "unique_elements = set(list1).difference(list2)\n",
    "print(\"Elements in list1 but not in list2:\", unique_elements)\n"
   ]
  },
  {
   "cell_type": "markdown",
   "id": "fa3d0deb",
   "metadata": {},
   "source": [
    "### Use set comprehension to generate a set (e.g., squares)"
   ]
  },
  {
   "cell_type": "code",
   "execution_count": null,
   "id": "5b8d6313",
   "metadata": {},
   "outputs": [],
   "source": [
    "\n",
    "squares = {x**2 for x in range(1, 6)}\n",
    "print(\"Squares set:\", squares)\n"
   ]
  },
  {
   "cell_type": "markdown",
   "id": "1420b286",
   "metadata": {},
   "source": [
    "### Create and print a frozenset"
   ]
  },
  {
   "cell_type": "code",
   "execution_count": null,
   "id": "e5bdceee",
   "metadata": {},
   "outputs": [],
   "source": [
    "\n",
    "my_frozenset = frozenset([1, 2, 3, 4, 5])\n",
    "print(\"Frozen Set:\", my_frozenset)\n"
   ]
  }
 ],
 "metadata": {},
 "nbformat": 4,
 "nbformat_minor": 5
}