{
 "cells": [
  {
   "cell_type": "markdown",
   "id": "ec51ecdc",
   "metadata": {},
   "source": [
    "### Check the given number is odd or even"
   ]
  },
  {
   "cell_type": "code",
   "execution_count": null,
   "id": "55156260",
   "metadata": {},
   "outputs": [],
   "source": [
    "\n",
    "def check_odd_even(n):\n",
    "    if n % 2 == 0:\n",
    "        print(f\"{n} is Even\")\n",
    "    else:\n",
    "        print(f\"{n} is Odd\")\n",
    "\n",
    "num = int(input(\"Enter a number: \"))\n",
    "check_odd_even(num)\n"
   ]
  },
  {
   "cell_type": "markdown",
   "id": "bfda452e",
   "metadata": {},
   "source": [
    "### Count the total number of digits in a number"
   ]
  },
  {
   "cell_type": "code",
   "execution_count": null,
   "id": "544e1850",
   "metadata": {},
   "outputs": [],
   "source": [
    "\n",
    "def count_digits(n):\n",
    "    return len(str(abs(n)))\n",
    "\n",
    "num = int(input(\"Enter a number: \"))\n",
    "print(f\"Total digits: {count_digits(num)}\")\n"
   ]
  },
  {
   "cell_type": "markdown",
   "id": "a4bd7c35",
   "metadata": {},
   "source": [
    "### Print the reverse number pattern using a for loop"
   ]
  },
  {
   "cell_type": "code",
   "execution_count": null,
   "id": "992f2d44",
   "metadata": {},
   "outputs": [],
   "source": [
    "\n",
    "def reverse_number_pattern(n):\n",
    "    for i in range(n, 0, -1):\n",
    "        for j in range(i, 0, -1):\n",
    "            print(j, end=' ')\n",
    "        print()\n",
    "\n",
    "num = 5\n",
    "reverse_number_pattern(num)\n"
   ]
  },
  {
   "cell_type": "markdown",
   "id": "40f1622c",
   "metadata": {},
   "source": [
    "### Print all prime numbers within a range"
   ]
  },
  {
   "cell_type": "code",
   "execution_count": null,
   "id": "a03a31aa",
   "metadata": {},
   "outputs": [],
   "source": [
    "\n",
    "def is_prime(n):\n",
    "    if n <= 1:\n",
    "        return False\n",
    "    for i in range(2, int(n**0.5) + 1):\n",
    "        if n % i == 0:\n",
    "            return False\n",
    "    return True\n",
    "\n",
    "def primes_in_range(start, end):\n",
    "    for num in range(start, end + 1):\n",
    "        if is_prime(num):\n",
    "            print(num, end=' ')\n",
    "\n",
    "start = int(input(\"Enter start of range: \"))\n",
    "end = int(input(\"Enter end of range: \"))\n",
    "primes_in_range(start, end)\n"
   ]
  },
  {
   "cell_type": "markdown",
   "id": "a0b74e37",
   "metadata": {},
   "source": [
    "### Find the factorial of a given number"
   ]
  },
  {
   "cell_type": "code",
   "execution_count": null,
   "id": "642bdc23",
   "metadata": {},
   "outputs": [],
   "source": [
    "\n",
    "def factorial(n):\n",
    "    result = 1\n",
    "    for i in range(2, n+1):\n",
    "        result *= i\n",
    "    return result\n",
    "\n",
    "num = int(input(\"Enter a number: \"))\n",
    "print(f\"Factorial: {factorial(num)}\")\n"
   ]
  },
  {
   "cell_type": "markdown",
   "id": "1e16af26",
   "metadata": {},
   "source": [
    "### Program to check if number is palindrome"
   ]
  },
  {
   "cell_type": "code",
   "execution_count": null,
   "id": "136e9975",
   "metadata": {},
   "outputs": [],
   "source": [
    "\n",
    "def is_palindrome(n):\n",
    "    return str(n) == str(n)[::-1]\n",
    "\n",
    "num = int(input(\"Enter a number: \"))\n",
    "if is_palindrome(num):\n",
    "    print(f\"{num} is a Palindrome\")\n",
    "else:\n",
    "    print(f\"{num} is not a Palindrome\")\n"
   ]
  },
  {
   "cell_type": "markdown",
   "id": "ad5bee6b",
   "metadata": {},
   "source": [
    "### Program to Check Armstrong Number"
   ]
  },
  {
   "cell_type": "code",
   "execution_count": null,
   "id": "206ed9d9",
   "metadata": {},
   "outputs": [],
   "source": [
    "\n",
    "def is_armstrong(n):\n",
    "    digits = [int(d) for d in str(n)]\n",
    "    power = len(digits)\n",
    "    return sum(d**power for d in digits) == n\n",
    "\n",
    "num = int(input(\"Enter a number: \"))\n",
    "if is_armstrong(num):\n",
    "    print(f\"{num} is an Armstrong number\")\n",
    "else:\n",
    "    print(f\"{num} is not an Armstrong number\")\n"
   ]
  },
  {
   "cell_type": "markdown",
   "id": "85094626",
   "metadata": {},
   "source": [
    "### Find Maximum of three numbers"
   ]
  },
  {
   "cell_type": "code",
   "execution_count": null,
   "id": "dc464bcc",
   "metadata": {},
   "outputs": [],
   "source": [
    "\n",
    "def max_of_three(a, b, c):\n",
    "    return max(a, b, c)\n",
    "\n",
    "a = int(input(\"Enter first number: \"))\n",
    "b = int(input(\"Enter second number: \"))\n",
    "c = int(input(\"Enter third number: \"))\n",
    "print(f\"Maximum: {max_of_three(a, b, c)}\")\n"
   ]
  },
  {
   "cell_type": "markdown",
   "id": "9215c3d1",
   "metadata": {},
   "source": [
    "### Find the Sum of digits"
   ]
  },
  {
   "cell_type": "code",
   "execution_count": null,
   "id": "e24d4dfc",
   "metadata": {},
   "outputs": [],
   "source": [
    "\n",
    "def sum_of_digits(n):\n",
    "    return sum(int(d) for d in str(abs(n)))\n",
    "\n",
    "num = int(input(\"Enter a number: \"))\n",
    "print(f\"Sum of digits: {sum_of_digits(num)}\")\n"
   ]
  },
  {
   "cell_type": "markdown",
   "id": "aff0be6c",
   "metadata": {},
   "source": [
    "### Print the Natural Numbers Summation Pattern"
   ]
  },
  {
   "cell_type": "code",
   "execution_count": null,
   "id": "cab7b83a",
   "metadata": {},
   "outputs": [],
   "source": [
    "\n",
    "def summation_pattern(n):\n",
    "    total = 0\n",
    "    for i in range(1, n + 1):\n",
    "        total += i\n",
    "        print(\" + \".join(map(str, range(1, i + 1))) + f\" = {total}\")\n",
    "\n",
    "num = int(input(\"Enter a number: \"))\n",
    "summation_pattern(num)\n"
   ]
  }
 ],
 "metadata": {},
 "nbformat": 4,
 "nbformat_minor": 5
}