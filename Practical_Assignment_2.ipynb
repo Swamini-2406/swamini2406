{
 "cells": [
  {
   "cell_type": "markdown",
   "id": "5f52de19",
   "metadata": {},
   "source": [
    "### Store and display student information (name, age, grade)"
   ]
  },
  {
   "cell_type": "code",
   "execution_count": null,
   "id": "c0ddbe5e",
   "metadata": {},
   "outputs": [],
   "source": [
    "\n",
    "def display_student(student):\n",
    "    print(f\"Name: {student[0]}, Age: {student[1]}, Grade: {student[2]}\")\n",
    "\n",
    "student = (\"Rahul\", 20, \"A\")\n",
    "display_student(student)\n"
   ]
  },
  {
   "cell_type": "markdown",
   "id": "37ee958d",
   "metadata": {},
   "source": [
    "### List prices of grocery items and total them"
   ]
  },
  {
   "cell_type": "code",
   "execution_count": null,
   "id": "9c215029",
   "metadata": {},
   "outputs": [],
   "source": [
    "\n",
    "def total_prices(prices):\n",
    "    return sum(prices)\n",
    "\n",
    "grocery_prices = (25, 50, 20, 45)\n",
    "print(f\"Grocery Prices: {grocery_prices}\")\n",
    "print(f\"Total: {total_prices(grocery_prices)}\")\n"
   ]
  },
  {
   "cell_type": "markdown",
   "id": "b866d6d8",
   "metadata": {},
   "source": [
    "### Pair items with prices using tuples"
   ]
  },
  {
   "cell_type": "code",
   "execution_count": null,
   "id": "2b9b0e5a",
   "metadata": {},
   "outputs": [],
   "source": [
    "\n",
    "items = ((\"Milk\", 25), (\"Eggs\", 50), (\"Bread\", 20))\n",
    "for item, price in items:\n",
    "    print(f\"Item: {item}, Price: {price}\")\n"
   ]
  },
  {
   "cell_type": "markdown",
   "id": "2f79e87a",
   "metadata": {},
   "source": [
    "### Store and display train schedule as tuples"
   ]
  },
  {
   "cell_type": "code",
   "execution_count": null,
   "id": "5f2dbb66",
   "metadata": {},
   "outputs": [],
   "source": [
    "\n",
    "schedule = ((\"Rajdhani\", \"10:00\"), (\"Shatabdi\", \"12:30\"), (\"Duronto\", \"17:00\"))\n",
    "for train, time in schedule:\n",
    "    print(f\"Train: {train}, Time: {time}\")\n"
   ]
  },
  {
   "cell_type": "markdown",
   "id": "60ab1967",
   "metadata": {},
   "source": [
    "### Sort employee records by salary"
   ]
  },
  {
   "cell_type": "code",
   "execution_count": null,
   "id": "cef631db",
   "metadata": {},
   "outputs": [],
   "source": [
    "\n",
    "employees = ((\"John\", 40000), (\"Alice\", 55000), (\"Raj\", 30000))\n",
    "sorted_employees = sorted(employees, key=lambda x: x[1])\n",
    "for name, salary in sorted_employees:\n",
    "    print(f\"Employee: {name}, Salary: {salary}\")\n"
   ]
  },
  {
   "cell_type": "markdown",
   "id": "e8b34bfb",
   "metadata": {},
   "source": [
    "### Count how many students scored above 75 marks"
   ]
  },
  {
   "cell_type": "code",
   "execution_count": null,
   "id": "0c79fd47",
   "metadata": {},
   "outputs": [],
   "source": [
    "\n",
    "marks = (67, 88, 92, 74, 76, 55)\n",
    "count = sum(1 for mark in marks if mark > 75)\n",
    "print(f\"Number of students scoring above 75: {count}\")\n"
   ]
  },
  {
   "cell_type": "markdown",
   "id": "622ff176",
   "metadata": {},
   "source": [
    "### Create a tuple of stock prices and find the max"
   ]
  },
  {
   "cell_type": "code",
   "execution_count": null,
   "id": "6d9951d4",
   "metadata": {},
   "outputs": [],
   "source": [
    "\n",
    "prices = (154.5, 160.2, 149.8, 170.1)\n",
    "print(f\"Maximum Stock Price: {max(prices)}\")\n"
   ]
  },
  {
   "cell_type": "markdown",
   "id": "8f82e168",
   "metadata": {},
   "source": [
    "### Log temperature readings during the day and find the average temperature"
   ]
  },
  {
   "cell_type": "code",
   "execution_count": null,
   "id": "fbea3756",
   "metadata": {},
   "outputs": [],
   "source": [
    "\n",
    "temperatures = (29.5, 30.0, 32.2, 31.5, 28.9)\n",
    "average_temp = sum(temperatures) / len(temperatures)\n",
    "print(f\"Average Temperature: {average_temp:.2f}°C\")\n"
   ]
  },
  {
   "cell_type": "markdown",
   "id": "683fb64e",
   "metadata": {},
   "source": [
    "### Schedule appointments (name, time)"
   ]
  },
  {
   "cell_type": "code",
   "execution_count": null,
   "id": "2ca6afd8",
   "metadata": {},
   "outputs": [],
   "source": [
    "\n",
    "appointments = ((\"Doctor\", \"10:00 AM\"), (\"Meeting\", \"2:00 PM\"))\n",
    "for name, time in appointments:\n",
    "    print(f\"Appointment: {name} at {time}\")\n"
   ]
  },
  {
   "cell_type": "markdown",
   "id": "2dd2c711",
   "metadata": {},
   "source": [
    "### Store contact info (name, phone number)"
   ]
  },
  {
   "cell_type": "code",
   "execution_count": null,
   "id": "1b26344c",
   "metadata": {},
   "outputs": [],
   "source": [
    "\n",
    "contacts = ((\"Anil\", \"9876543210\"), (\"Priya\", \"9123456780\"))\n",
    "for name, number in contacts:\n",
    "    print(f\"Name: {name}, Phone: {number}\")\n"
   ]
  },
  {
   "cell_type": "markdown",
   "id": "fc038135",
   "metadata": {},
   "source": [
    "### Display exam schedule with subject and time"
   ]
  },
  {
   "cell_type": "code",
   "execution_count": null,
   "id": "4518ec78",
   "metadata": {},
   "outputs": [],
   "source": [
    "\n",
    "exams = ((\"Math\", \"9:00 AM\"), (\"Science\", \"11:30 AM\"), (\"English\", \"2:00 PM\"))\n",
    "for subject, time in exams:\n",
    "    print(f\"Subject: {subject}, Time: {time}\")\n"
   ]
  }
 ],
 "metadata": {},
 "nbformat": 4,
 "nbformat_minor": 5
}