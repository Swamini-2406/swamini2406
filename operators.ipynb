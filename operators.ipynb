{
 "cells": [
  {
   "cell_type": "markdown",
   "id": "962094a3-03ad-4eae-8d2a-5a9c8ff9d5c2",
   "metadata": {},
   "source": [
    "## Python Arithmetic Operators\n",
    "\n",
    "Arithmetic operators are used with numeric values to perform common mathematical operations:\n",
    "\n",
    "Operator\tName\tExample\tTry it\n",
    "+\t    Addition\tx + y\t\n",
    "-\t    Subtraction\tx - y\t\n",
    "*\t    Multiplication\tx * y\t\n",
    "/\t    Division\tx / y\t\n",
    "%\t    Modulus \tx % y\t\n",
    "**\tExponentiation\tx ** y\t\n",
    "//\tFloor division\tx // y  "
   ]
  },
  {
   "cell_type": "code",
   "execution_count": 1,
   "id": "cce66fe1-0200-40a2-9539-2591b99e99c6",
   "metadata": {},
   "outputs": [
    {
     "name": "stdout",
     "output_type": "stream",
     "text": [
      "8\n"
     ]
    }
   ],
   "source": [
    "x = 17\n",
    "y = 2\n",
    "\n",
    "print(x // y)\n",
    "\n",
    "#the floor division // rounds the result down to the nearest whole number\n"
   ]
  },
  {
   "cell_type": "markdown",
   "id": "e556601f-5455-410d-ad1e-c550eceb17d4",
   "metadata": {},
   "source": [
    "## Python Assignment Operators\n",
    "Python Assignment Operators"
   ]
  },
  {
   "cell_type": "code",
   "execution_count": null,
   "id": "77c0fddf-7e71-41c5-ac72-9558273cfa5a",
   "metadata": {},
   "outputs": [],
   "source": [
    "#Operator\tExample\t    Same As\t\n",
    "=\t        x = 5\t    x = 5\t\n",
    "+=\t        x += 3\t    x = x + 3\t\n",
    "-=\t        x -= 3\t    x = x - 3\t\n",
    "*=\t        x *= 3\t    x = x * 3\t\n",
    "/=\t        x /= 3\t    x = x / 3\t\n",
    "%=\t        x %= 3\t    x = x % 3\t\n",
    "//=\t        x //= 3\t    x = x // 3\t\n",
    "**=\t        x **= 3\t    x = x ** 3\t\n",
    "&=\t        x &= 3\t    x = x & 3\t\n",
    "|=\t        x |= 3  \tx = x | 3\t\n",
    "^=\t        x ^= 3\t    x = x ^ 3\t\n",
    ">>=     \tx >>= 3\t    x = x >> 3\t\n",
    "<<=\t        x <<= 3\t    x = x << 3\t\n",
    ":=\t  print(x := 3)\t    x = 3\n",
    "                        print(x)"
   ]
  },
  {
   "cell_type": "markdown",
   "id": "471fe506-b1f9-4697-beb5-ab1842d20c05",
   "metadata": {},
   "source": [
    "## Python Comparison Operators\n",
    "Comparison operators are used to compare two values:"
   ]
  },
  {
   "cell_type": "code",
   "execution_count": null,
   "id": "5656f726-cdbd-4775-aae7-13ce381c9749",
   "metadata": {},
   "outputs": [],
   "source": [
    "Operator\tName\t      Example\n",
    "==\t      Equal \t      x == y\t\n",
    "!=\t      Not equal\t      x != y\t\n",
    ">\t      Greater than\t  x > y\t\n",
    "<\t      Less than\t      x < y\t\n",
    ">=\t    Greater than or equal to\tx >= y\t\n",
    "<=\t    Less than or equal to\tx <= y\t\n"
   ]
  },
  {
   "cell_type": "markdown",
   "id": "113f0975-da18-43a2-94ea-88f924d1a29f",
   "metadata": {},
   "source": [
    "## Python Logical Operators\n",
    "Logical operators are used to combine conditional statements:\n",
    "\n"
   ]
  },
  {
   "cell_type": "code",
   "execution_count": null,
   "id": "b2982d6b-0a22-453a-a66c-049f92b4fd40",
   "metadata": {},
   "outputs": [],
   "source": [
    "Operator\t                     Description\t                                             Example\t\n",
    "and \t                Returns True if both statements are true\t                     x < 5 and  x < 10\t\n",
    "or\t                    Returns True if one of the statements is true\t                 x < 5 or x < 4\t\n",
    "not                 \tReverse the result, returns False if the result is true\t         not(x < 5 and x < 10)"
   ]
  },
  {
   "cell_type": "markdown",
   "id": "bb956d8d-8d90-4a67-9bc8-7e7d0f92c028",
   "metadata": {},
   "source": [
    "## Python Identity Operators\n",
    "Identity operators are used to compare the objects, not if they are equal, but if they are actually the same object, \n",
    "with the same memory location:"
   ]
  },
  {
   "cell_type": "code",
   "execution_count": null,
   "id": "07b06245-4a2f-4d67-a2f4-eba06fc24048",
   "metadata": {},
   "outputs": [],
   "source": [
    "Operator                               Description\t                                  Example\t\n",
    "is \t                     Returns True if both variables are the same object\t          x is y\t\n",
    "is not\t                 Returns True if both variables are not the same object\t     x is not y"
   ]
  },
  {
   "cell_type": "code",
   "execution_count": 1,
   "id": "0be754d1-a5f5-4821-8a89-d0692ad92e62",
   "metadata": {},
   "outputs": [
    {
     "name": "stdout",
     "output_type": "stream",
     "text": [
      "True\n",
      "False\n",
      "True\n"
     ]
    }
   ],
   "source": [
    "x = [\"apple\", \"banana\"]\n",
    "y = [\"apple\", \"banana\"]\n",
    "z = x\n",
    "\n",
    "print(x is z)\n",
    "\n",
    "# returns True because z is the same object as x\n",
    "\n",
    "print(x is y)\n",
    "\n",
    "# returns False because x is not the same object as y, even if they have the same content\n",
    "\n",
    "print(x == y)\n",
    "\n",
    "# to demonstrate the difference betweeen \"is\" and \"==\": this comparison returns True because x is equal to y\n"
   ]
  },
  {
   "cell_type": "code",
   "execution_count": 2,
   "id": "c42a3836-4445-42e4-8409-1f8f59358ef2",
   "metadata": {},
   "outputs": [
    {
     "name": "stdout",
     "output_type": "stream",
     "text": [
      "False\n",
      "True\n",
      "False\n"
     ]
    }
   ],
   "source": [
    "x = [\"apple\", \"banana\"]\n",
    "y = [\"apple\", \"banana\"]\n",
    "z = x\n",
    "\n",
    "print(x is not z)\n",
    "\n",
    "# returns False because z is the same object as x\n",
    "\n",
    "print(x is not y)\n",
    "\n",
    "# returns True because x is not the same object as y, even if they have the same content\n",
    "\n",
    "print(x != y)\n",
    "\n",
    "# to demonstrate the difference betweeen \"is not\" and \"!=\": this comparison returns False because x is equal to y\n"
   ]
  },
  {
   "cell_type": "markdown",
   "id": "96d98ab4-c268-465c-b055-6b55a57fe466",
   "metadata": {},
   "source": [
    "## Python Membership Operators\n",
    "Membership operators are used to test if a sequence is presented in an object:\n",
    "\n"
   ]
  },
  {
   "cell_type": "code",
   "execution_count": null,
   "id": "f867973a-3349-4aa3-9d01-1d4aae8e3772",
   "metadata": {},
   "outputs": [],
   "source": [
    "Operator\t                                           Description\t                                                Example\n",
    "in \t                           Returns True if a sequence with the specified value is present in the object \t    x in y\t\n",
    "not in\t                       Returns True if a sequence with the specified value is not present in the object\t    x not in y"
   ]
  },
  {
   "cell_type": "code",
   "execution_count": 3,
   "id": "561980e5-f585-4491-8cbc-08b7b0547004",
   "metadata": {},
   "outputs": [
    {
     "name": "stdout",
     "output_type": "stream",
     "text": [
      "True\n"
     ]
    }
   ],
   "source": [
    "x = [\"apple\", \"banana\"]\n",
    "\n",
    "print(\"banana\" in x)\n",
    "\n",
    "# returns True because a sequence with the value \"banana\" is in the list\n"
   ]
  },
  {
   "cell_type": "code",
   "execution_count": 4,
   "id": "bbb2328a-c08c-4859-8e4e-e76909bf8264",
   "metadata": {},
   "outputs": [
    {
     "name": "stdout",
     "output_type": "stream",
     "text": [
      "True\n"
     ]
    }
   ],
   "source": [
    "x = [\"apple\", \"banana\"]\n",
    "\n",
    "print(\"pineapple\" not in x)\n",
    "\n",
    "# returns True because a sequence with the value \"pineapple\" is not in the list\n"
   ]
  },
  {
   "cell_type": "markdown",
   "id": "96be1e62-4db5-40bb-a8aa-1323626d3ce8",
   "metadata": {},
   "source": [
    "## Python Bitwise Operators\n",
    "Bitwise operators are used to compare (binary) numbers:\n",
    "\n"
   ]
  },
  {
   "cell_type": "code",
   "execution_count": null,
   "id": "566027f5-223d-4678-8d8f-bc9fd5c3612d",
   "metadata": {},
   "outputs": [],
   "source": [
    "Operator\t       Name\t                     Description\t                                    Example\n",
    "&                  AND\t               each bit to 1 if both bits are 1\t                         x & y\t\n",
    "|\t               OR\t               Sets each bit to 1 if one of two bits is 1\t             x | y\t\n",
    "^\t               XOR\t               Sets each bit to 1 if only one of two bits is 1\t         x ^ y\t\n",
    "~\t               NOT\t               Inverts all the bits\t                                       ~x\t\n",
    "<<\t       Zero fill left shift\t       Shift left by pushing zeros in from the right             x << 2\t\n",
    "                                       and let the leftmost bits fall off\t\n",
    ">>\t       Signed right shift\t       Shift right by pushing copies of the leftmost bit         x >> 2\t\n",
    "                                       in from the left, and let the rightmost bits fall off\t\n"
   ]
  },
  {
   "cell_type": "code",
   "execution_count": 6,
   "id": "a5a7540f-b287-4f0f-a1f7-9f2a1817f38a",
   "metadata": {
    "scrolled": true
   },
   "outputs": [
    {
     "name": "stdout",
     "output_type": "stream",
     "text": [
      "5\n"
     ]
    },
    {
     "data": {
      "text/plain": [
       "'\\nThe ^ operator compares each bit and set it to 1 if only one is 1, otherwise (if both are 1 or both are 0) it is set to 0:\\n\\n6 = 0000000000000110\\n3 = 0000000000000011\\n--------------------\\n5 = 0000000000000101\\n====================\\n\\nDecimal numbers and their binary values:\\n0 = 0000000000000000\\n1 = 0000000000000001\\n2 = 0000000000000010\\n3 = 0000000000000011\\n4 = 0000000000000100\\n5 = 0000000000000101\\n6 = 0000000000000110\\n7 = 0000000000000111\\n'"
      ]
     },
     "execution_count": 6,
     "metadata": {},
     "output_type": "execute_result"
    }
   ],
   "source": [
    "print(6 ^ 3)\n",
    "\n",
    "\"\"\"\n",
    "The ^ operator compares each bit and set it to 1 if only one is 1, otherwise (if both are 1 or both are 0) it is set to 0:\n",
    "\n",
    "6 = 0000000000000110\n",
    "3 = 0000000000000011\n",
    "--------------------\n",
    "5 = 0000000000000101\n",
    "====================\n",
    "\n",
    "Decimal numbers and their binary values:\n",
    "0 = 0000000000000000\n",
    "1 = 0000000000000001\n",
    "2 = 0000000000000010\n",
    "3 = 0000000000000011\n",
    "4 = 0000000000000100\n",
    "5 = 0000000000000101\n",
    "6 = 0000000000000110\n",
    "7 = 0000000000000111\n",
    "\"\"\""
   ]
  },
  {
   "cell_type": "code",
   "execution_count": 7,
   "id": "df5aa81f-b27c-4c70-a279-35ef2a3550d6",
   "metadata": {},
   "outputs": [
    {
     "name": "stdout",
     "output_type": "stream",
     "text": [
      "2\n"
     ]
    },
    {
     "data": {
      "text/plain": [
       "\"\\nThe >> operator moves each bit the specified number of times to the right. Empty holes at the left are filled with 0's.\\n\\nIf you move each bit 2 times to the right, 8 becomes 2:\\n 8 = 0000000000001000\\nbecomes\\n 2 = 0000000000000010\\n\\nDecimal numbers and their binary values:\\n 0 = 0000000000000000\\n 1 = 0000000000000001\\n 2 = 0000000000000010\\n 3 = 0000000000000011\\n 4 = 0000000000000100\\n 5 = 0000000000000101\\n 6 = 0000000000000110\\n 7 = 0000000000000111\\n 8 = 0000000000001000\\n 9 = 0000000000001001\\n10 = 0000000000001010\\n11 = 0000000000001011\\n12 = 0000000000001100\\n\""
      ]
     },
     "execution_count": 7,
     "metadata": {},
     "output_type": "execute_result"
    }
   ],
   "source": [
    "print(8 >> 2)\n",
    "\n",
    "\n",
    "\n",
    "\"\"\"\n",
    "The >> operator moves each bit the specified number of times to the right. Empty holes at the left are filled with 0's.\n",
    "\n",
    "If you move each bit 2 times to the right, 8 becomes 2:\n",
    " 8 = 0000000000001000\n",
    "becomes\n",
    " 2 = 0000000000000010\n",
    "\n",
    "Decimal numbers and their binary values:\n",
    " 0 = 0000000000000000\n",
    " 1 = 0000000000000001\n",
    " 2 = 0000000000000010\n",
    " 3 = 0000000000000011\n",
    " 4 = 0000000000000100\n",
    " 5 = 0000000000000101\n",
    " 6 = 0000000000000110\n",
    " 7 = 0000000000000111\n",
    " 8 = 0000000000001000\n",
    " 9 = 0000000000001001\n",
    "10 = 0000000000001010\n",
    "11 = 0000000000001011\n",
    "12 = 0000000000001100\n",
    "\"\"\""
   ]
  },
  {
   "cell_type": "markdown",
   "id": "8ab83c6d-b2e9-4f26-8c27-0e0737a474c5",
   "metadata": {},
   "source": [
    "## The precedence order is described in the table below, starting with the highest precedence at the top:\n",
    "\n"
   ]
  },
  {
   "cell_type": "code",
   "execution_count": null,
   "id": "e9a2be2c-f880-4308-85d1-29cdf0c6f663",
   "metadata": {},
   "outputs": [],
   "source": [
    "Operator\t                                                           Description\t\n",
    "()\t                                                                   Parentheses\t\n",
    "**\t                                                                   Exponentiation\t\n",
    "+x  -x  ~x\t                                                  Unary plus, unary minus, and bitwise NOT\t\n",
    "*  /  //  %\t                                                  Multiplication, division, floor division, and modulus\t\n",
    "+  -\t                                                      Addition and subtraction\t\n",
    "<<  >>\t                                                      Bitwise left and right shifts\t\n",
    "&\t                                                          Bitwise AND\t\n",
    "^\t                                                          Bitwise XOR\t\n",
    "|\t                                                          Bitwise OR\t\n",
    "==  !=  >  >=  <  <=  is  is not  in  not in \t              Comparisons, identity, and membership operators\t\n",
    "not\t                                                          Logical NOT\t\n",
    "and\t                                                          AND\t\n",
    "or\t                                                          OR\t\n"
   ]
  },
  {
   "cell_type": "markdown",
   "id": "c0cb04e4-f6b7-437b-97a2-7f4f4c27dee2",
   "metadata": {},
   "source": [
    "- If two operators have the same precedence, the expression is evaluated from left to right."
   ]
  },
  {
   "cell_type": "code",
   "execution_count": 8,
   "id": "48db717b-7ac1-471d-ba3a-2b3e267712f7",
   "metadata": {},
   "outputs": [
    {
     "name": "stdout",
     "output_type": "stream",
     "text": [
      "5\n"
     ]
    }
   ],
   "source": [
    "#Addition + and subtraction - has the same precedence, and therefore we evaluate the expression from left to right:\n",
    "\n",
    "print(5 + 4 - 7 + 3)"
   ]
  },
  {
   "cell_type": "code",
   "execution_count": null,
   "id": "12fa6a89-d161-4380-871e-98ea230bdf37",
   "metadata": {},
   "outputs": [],
   "source": []
  }
 ],
 "metadata": {
  "kernelspec": {
   "display_name": "Python 3 (ipykernel)",
   "language": "python",
   "name": "python3"
  },
  "language_info": {
   "codemirror_mode": {
    "name": "ipython",
    "version": 3
   },
   "file_extension": ".py",
   "mimetype": "text/x-python",
   "name": "python",
   "nbconvert_exporter": "python",
   "pygments_lexer": "ipython3",
   "version": "3.12.7"
  }
 },
 "nbformat": 4,
 "nbformat_minor": 5
}
